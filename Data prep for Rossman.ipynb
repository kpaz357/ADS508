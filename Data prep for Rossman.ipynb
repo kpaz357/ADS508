{
 "cells": [
  {
   "cell_type": "code",
   "execution_count": 16,
   "id": "6d33ce64-d1a1-4f12-a3c3-590cde2b49cd",
   "metadata": {},
   "outputs": [
    {
     "name": "stderr",
     "output_type": "stream",
     "text": [
      "/tmp/ipykernel_125/1507509432.py:16: DtypeWarning: Columns (7) have mixed types. Specify dtype option on import or set low_memory=False.\n",
      "  train_rossmann = pd.read_csv(response['Body'])\n"
     ]
    }
   ],
   "source": [
    "import boto3\n",
    "import pandas as pd\n",
    "from io import StringIO\n",
    "\n",
    "# S3 client\n",
    "s3_client = boto3.client('s3')\n",
    "\n",
    "#  S3 bucket and file paths\n",
    "bucket_name = 'nexttrendco'\n",
    "file_path = 'rossman/train.csv'\n",
    "\n",
    "# download  file from S3\n",
    "response = s3_client.get_object(Bucket=bucket_name, Key=file_path)\n",
    "\n",
    "# read CSV from the response into a pandas DataFrame\n",
    "train_rossmann = pd.read_csv(response['Body'])\n"
   ]
  },
  {
   "cell_type": "code",
   "execution_count": 23,
   "id": "cc81e9cc-3a36-4dd8-88bf-2d39fa73e23e",
   "metadata": {},
   "outputs": [
    {
     "name": "stdout",
     "output_type": "stream",
     "text": [
      "Missing values handled successfully\n"
     ]
    }
   ],
   "source": [
    "# convert 'Date' column to datetime format\n",
    "train_rossmann['Date'] = pd.to_datetime(train_rossmann['Date'], errors='coerce')\n",
    "\n",
    "# fill missing values for numeric columns with median\n",
    "numeric_columns = train_rossmann.select_dtypes(include=['number']).columns\n",
    "train_rossmann[numeric_columns] = train_rossmann[numeric_columns].fillna(train_rossmann[numeric_columns].median())\n",
    "\n",
    "# fill missing categorical columns with mode \n",
    "categorical_columns = train_rossmann.select_dtypes(include='object').columns\n",
    "train_rossmann[categorical_columns] = train_rossmann[categorical_columns].fillna(train_rossmann[categorical_columns].mode().iloc[0])\n",
    "\n",
    "print(\"Missing values handled successfully\")\n"
   ]
  },
  {
   "cell_type": "code",
   "execution_count": 26,
   "id": "be4729df-0f32-4617-bc86-69f6cc654024",
   "metadata": {},
   "outputs": [],
   "source": [
    "# Lag Features\n",
    "train_rossman['lag_1'] = train_rossmann['Sales'].shift(1)\n",
    "train_rossman['lag_7'] = train_rossmann['Sales'].shift(7)\n",
    "\n",
    "# Rolling Mean Features\n",
    "train_rossman['rolling_mean_7'] = train_rossmann['Sales'].rolling(window=7).mean()\n",
    "\n",
    "# Interaction Features\n",
    "train_rossman['promo_holiday_interaction'] = train_rossmann['Promo'] * train_rossmann['StateHoliday']\n",
    "\n",
    "# Convert the 'Date' column to datetime\n",
    "train_rossman['Date'] = pd.to_datetime(train_rossmann['Date'])\n",
    "\n",
    "# Extract day of week and month from the 'Date' column\n",
    "train_rossman['day_of_week'] = train_rossmann['Date'].dt.dayofweek\n",
    "train_rossman['month'] = train_rossmann['Date'].dt.month\n"
   ]
  },
  {
   "cell_type": "code",
   "execution_count": 27,
   "id": "3a2c4600-1a36-4372-b2c1-1796e65c3715",
   "metadata": {},
   "outputs": [],
   "source": [
    "# Split the data into 80% training and 20% validation\n",
    "train_rossmann, val_rossman = train_rossman.sample(frac=0.8, random_state=42), train_rossman.drop(train_rossman.sample(frac=0.8, random_state=42).index)"
   ]
  },
  {
   "cell_type": "code",
   "execution_count": 28,
   "id": "c086630e-827b-4783-8976-ec84f124a82f",
   "metadata": {},
   "outputs": [
    {
     "name": "stdout",
     "output_type": "stream",
     "text": [
      "Preprocessed data saved to S3.\n"
     ]
    }
   ],
   "source": [
    "import io\n",
    "\n",
    "csv_train = train_rossmann.to_csv(index=False)\n",
    "\n",
    "# save training file to S3\n",
    "s3_client.put_object(Bucket=bucket_name, Key='rossman/train_preprocessed.csv', Body=csv_train)\n",
    "\n",
    "# Convert the validation set to CSV\n",
    "csv_val = val_rossman.to_csv(index=False)\n",
    "\n",
    "# save validation file to S3\n",
    "s3_client.put_object(Bucket=bucket_name, Key='rossman/val_preprocessed.csv', Body=csv_val)\n",
    "\n",
    "print(\"Preprocessed data saved to S3.\")\n"
   ]
  },
  {
   "cell_type": "code",
   "execution_count": 29,
   "id": "c2fa62ea-4616-44ad-86cf-f0b4ad2af981",
   "metadata": {},
   "outputs": [
    {
     "ename": "NameError",
     "evalue": "name 'train_sample' is not defined",
     "output_type": "error",
     "traceback": [
      "\u001b[0;31m---------------------------------------------------------------------------\u001b[0m",
      "\u001b[0;31mNameError\u001b[0m                                 Traceback (most recent call last)",
      "Cell \u001b[0;32mIn[29], line 2\u001b[0m\n\u001b[1;32m      1\u001b[0m \u001b[38;5;66;03m# save sampled data\u001b[39;00m\n\u001b[0;32m----> 2\u001b[0m \u001b[43mtrain_sample\u001b[49m\u001b[38;5;241m.\u001b[39mto_csv(\u001b[38;5;124m\"\u001b[39m\u001b[38;5;124m/home/sagemaker-user/train_sample.csv\u001b[39m\u001b[38;5;124m\"\u001b[39m, index\u001b[38;5;241m=\u001b[39m\u001b[38;5;28;01mFalse\u001b[39;00m)\n\u001b[1;32m      3\u001b[0m val_sample\u001b[38;5;241m.\u001b[39mto_csv(\u001b[38;5;124m\"\u001b[39m\u001b[38;5;124m/home/sagemaker-user/val_sample.csv\u001b[39m\u001b[38;5;124m\"\u001b[39m, index\u001b[38;5;241m=\u001b[39m\u001b[38;5;28;01mFalse\u001b[39;00m)\n\u001b[1;32m      4\u001b[0m test_sample\u001b[38;5;241m.\u001b[39mto_csv(\u001b[38;5;124m\"\u001b[39m\u001b[38;5;124m/home/sagemaker-user/test_sample.csv\u001b[39m\u001b[38;5;124m\"\u001b[39m, index\u001b[38;5;241m=\u001b[39m\u001b[38;5;28;01mFalse\u001b[39;00m)\n",
      "\u001b[0;31mNameError\u001b[0m: name 'train_sample' is not defined"
     ]
    }
   ],
   "source": [
    "# Sample 1000 rows from each dataset and save to new files\n",
    "train_sample = train_rossmann.sample(n=1000, random_state=42)\n",
    "test_sample = test_rossmann.sample(n=1000, random_state=42)\n",
    "\n",
    "# Save the sampled files\n",
    "train_sample.to_csv(\"train_sample.csv\", index=False)\n",
    "test_sample.to_csv(\"test_sample.csv\", index=False)\n"
   ]
  },
  {
   "cell_type": "code",
   "execution_count": null,
   "id": "e2e36561-0e74-4e37-abfd-bfd6ce76729d",
   "metadata": {},
   "outputs": [],
   "source": []
  }
 ],
 "metadata": {
  "kernelspec": {
   "display_name": "Python 3 (ipykernel)",
   "language": "python",
   "name": "python3"
  },
  "language_info": {
   "codemirror_mode": {
    "name": "ipython",
    "version": 3
   },
   "file_extension": ".py",
   "mimetype": "text/x-python",
   "name": "python",
   "nbconvert_exporter": "python",
   "pygments_lexer": "ipython3",
   "version": "3.11.11"
  }
 },
 "nbformat": 4,
 "nbformat_minor": 5
}
