{
 "cells": [
  {
   "cell_type": "code",
   "execution_count": 2,
   "id": "6f89dbe7-67e7-4832-872a-752ba891e203",
   "metadata": {},
   "outputs": [
    {
     "name": "stdout",
     "output_type": "stream",
     "text": [
      "Downloaded walmart/train.csv to train.csv\n",
      "Downloaded walmart/test.csv to test.csv\n",
      "Downloaded walmart/features.csv to features.csv\n"
     ]
    },
    {
     "data": {
      "text/html": [
       "<div>\n",
       "<style scoped>\n",
       "    .dataframe tbody tr th:only-of-type {\n",
       "        vertical-align: middle;\n",
       "    }\n",
       "\n",
       "    .dataframe tbody tr th {\n",
       "        vertical-align: top;\n",
       "    }\n",
       "\n",
       "    .dataframe thead th {\n",
       "        text-align: right;\n",
       "    }\n",
       "</style>\n",
       "<table border=\"1\" class=\"dataframe\">\n",
       "  <thead>\n",
       "    <tr style=\"text-align: right;\">\n",
       "      <th></th>\n",
       "      <th>Store</th>\n",
       "      <th>Dept</th>\n",
       "      <th>Date</th>\n",
       "      <th>Weekly_Sales</th>\n",
       "      <th>IsHoliday</th>\n",
       "    </tr>\n",
       "  </thead>\n",
       "  <tbody>\n",
       "    <tr>\n",
       "      <th>0</th>\n",
       "      <td>1</td>\n",
       "      <td>1</td>\n",
       "      <td>2010-02-05</td>\n",
       "      <td>24924.50</td>\n",
       "      <td>False</td>\n",
       "    </tr>\n",
       "    <tr>\n",
       "      <th>1</th>\n",
       "      <td>1</td>\n",
       "      <td>1</td>\n",
       "      <td>2010-02-12</td>\n",
       "      <td>46039.49</td>\n",
       "      <td>True</td>\n",
       "    </tr>\n",
       "    <tr>\n",
       "      <th>2</th>\n",
       "      <td>1</td>\n",
       "      <td>1</td>\n",
       "      <td>2010-02-19</td>\n",
       "      <td>41595.55</td>\n",
       "      <td>False</td>\n",
       "    </tr>\n",
       "    <tr>\n",
       "      <th>3</th>\n",
       "      <td>1</td>\n",
       "      <td>1</td>\n",
       "      <td>2010-02-26</td>\n",
       "      <td>19403.54</td>\n",
       "      <td>False</td>\n",
       "    </tr>\n",
       "    <tr>\n",
       "      <th>4</th>\n",
       "      <td>1</td>\n",
       "      <td>1</td>\n",
       "      <td>2010-03-05</td>\n",
       "      <td>21827.90</td>\n",
       "      <td>False</td>\n",
       "    </tr>\n",
       "  </tbody>\n",
       "</table>\n",
       "</div>"
      ],
      "text/plain": [
       "   Store  Dept        Date  Weekly_Sales  IsHoliday\n",
       "0      1     1  2010-02-05      24924.50      False\n",
       "1      1     1  2010-02-12      46039.49       True\n",
       "2      1     1  2010-02-19      41595.55      False\n",
       "3      1     1  2010-02-26      19403.54      False\n",
       "4      1     1  2010-03-05      21827.90      False"
      ]
     },
     "execution_count": 2,
     "metadata": {},
     "output_type": "execute_result"
    }
   ],
   "source": [
    "import pandas as pd\n",
    "import boto3\n",
    "\n",
    "s3 = boto3.client('s3')\n",
    "bucket_name = 'nexttrendco'\n",
    "\n",
    "# Specify the file names\n",
    "walmart_files = ['walmart/train.csv', 'walmart/test.csv', 'walmart/features.csv']\n",
    "file_paths = [file.split('/')[-1] for file in walmart_files]\n",
    "\n",
    "# Download Walmart files from S3 to local directory\n",
    "for s3_key, local_file in zip(walmart_files, file_paths):\n",
    "    s3.download_file(bucket_name, s3_key, local_file)\n",
    "    print(f\"Downloaded {s3_key} to {local_file}\")\n",
    "\n",
    "# Load data into pandas dataframes\n",
    "train_walmart = pd.read_csv('train.csv')\n",
    "test_walmart = pd.read_csv('test.csv')\n",
    "features_walmart = pd.read_csv('features.csv')\n",
    "\n",
    "# view first few rows \n",
    "train_walmart.head()"
   ]
  },
  {
   "cell_type": "code",
   "execution_count": 4,
   "id": "f9f5175d-44c8-4e11-ae08-3690fa9ec0d6",
   "metadata": {},
   "outputs": [
    {
     "name": "stdout",
     "output_type": "stream",
     "text": [
      "Series([], dtype: int64)\n"
     ]
    }
   ],
   "source": [
    "# check for missing values\n",
    "missing_data = train_walmart.isnull().sum()\n",
    "print(missing_data[missing_data > 0])  # Display columns with missing values"
   ]
  },
  {
   "cell_type": "code",
   "execution_count": 6,
   "id": "daca115e-8426-4ab6-90b1-8986ee31f42c",
   "metadata": {},
   "outputs": [
    {
     "name": "stdout",
     "output_type": "stream",
     "text": [
      "Index(['Store', 'Dept', 'Date', 'Weekly_Sales', 'IsHoliday'], dtype='object')\n"
     ]
    }
   ],
   "source": [
    "# feature engineering\n",
    "train_walmart['lag_1'] = train_walmart['Weekly_Sales'].shift(1)\n",
    "train_walmart['lag_7'] = train_walmart['Weekly_Sales'].shift(7)\n",
    "\n",
    "# RM\n",
    "train_walmart['rolling_mean_7'] = train_walmart['Weekly_Sales'].rolling(window=7).mean()\n",
    "\n",
    "# Interaction Features \n",
    "train_walmart['holiday_sales_interaction'] = train_walmart['IsHoliday'] * train_walmart['Weekly_Sales']\n",
    "\n",
    "# Convert Date column to datetime format\n",
    "train_walmart['Date'] = pd.to_datetime(train_walmart['Date'])\n",
    "\n",
    "# extract additional date features\n",
    "train_walmart['day_of_week'] = train_walmart['Date'].dt.dayofweek\n",
    "train_walmart['month'] = train_walmart['Date'].dt.month\n",
    "\n",
    "# Check the first few rows to verify\n",
    "train_walmart.head()\n"
   ]
  },
  {
   "cell_type": "code",
   "execution_count": null,
   "id": "195ae30e-b9c3-4851-8477-0716f97aba60",
   "metadata": {},
   "outputs": [],
   "source": []
  }
 ],
 "metadata": {
  "kernelspec": {
   "display_name": "Python 3 (ipykernel)",
   "language": "python",
   "name": "python3"
  },
  "language_info": {
   "codemirror_mode": {
    "name": "ipython",
    "version": 3
   },
   "file_extension": ".py",
   "mimetype": "text/x-python",
   "name": "python",
   "nbconvert_exporter": "python",
   "pygments_lexer": "ipython3",
   "version": "3.11.11"
  }
 },
 "nbformat": 4,
 "nbformat_minor": 5
}
