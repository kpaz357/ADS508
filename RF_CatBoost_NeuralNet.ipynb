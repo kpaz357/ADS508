{
 "cells": [
  {
   "cell_type": "code",
   "execution_count": 5,
   "id": "35f2f120-96ea-4195-a461-99a0e3dd28d4",
   "metadata": {},
   "outputs": [
    {
     "name": "stdout",
     "output_type": "stream",
     "text": [
      "Random Forest MAE: 5.4446\n",
      "Random Forest RMSE: 12.0783\n"
     ]
    },
    {
     "name": "stderr",
     "output_type": "stream",
     "text": [
      "/opt/conda/lib/python3.11/site-packages/sklearn/metrics/_regression.py:492: FutureWarning: 'squared' is deprecated in version 1.4 and will be removed in 1.6. To calculate the root mean squared error, use the function'root_mean_squared_error'.\n",
      "  warnings.warn(\n"
     ]
    }
   ],
   "source": [
    "#Random Forest\n",
    "import pandas as pd\n",
    "\n",
    "train_df = pd.read_csv(\"train.csv\")\n",
    "val_df = pd.read_csv(\"val.csv\")\n",
    "test_df = pd.read_csv(\"test.csv\")\n",
    "\n",
    "\n",
    "from sklearn.ensemble import RandomForestRegressor\n",
    "\n",
    "features = [\n",
    "    # Numerical features\n",
    "    \"store_nbr\", \"item_nbr\", \"transactions\", \"dcoilwtico\", \"dayofweek\",\n",
    "    \"is_weekend\", \"lag_7\", \"rolling_7\", \"promo_lag_interaction\",\n",
    "    \n",
    "    # One-hot encoded categorical features\n",
    "    \"type_y_Work Day\",  # Only one category found; check if more exist\n",
    "    \n",
    "    # All one-hot encoded 'family' features\n",
    "    \"family_BEAUTY\", \"family_BEVERAGES\", \"family_BREAD/BAKERY\", \"family_CLEANING\",\n",
    "    \"family_DAIRY\", \"family_DELI\", \"family_EGGS\", \"family_FROZEN FOODS\", \"family_GROCERY I\",\n",
    "    \"family_GROCERY II\", \"family_HARDWARE\", \"family_HOME APPLIANCES\", \"family_LAWN AND GARDEN\",\n",
    "    \"family_LINGERIE\", \"family_LIQUOR,WINE,BEER\", \"family_MEATS\", \"family_PERSONAL CARE\",\n",
    "    \"family_POULTRY\", \"family_PREPARED FOODS\", \"family_SEAFOOD\",\n",
    "\n",
    "    # All one-hot encoded 'city' features\n",
    "    \"city_Babahoyo\", \"city_Cayambe\", \"city_Cuenca\", \"city_Daule\", \"city_El Carmen\",\n",
    "    \"city_Esmeraldas\", \"city_Guaranda\", \"city_Guayaquil\", \"city_Ibarra\", \"city_Latacunga\",\n",
    "    \"city_Loja\", \"city_Machala\", \"city_Playas\", \"city_Quevedo\", \"city_Quito\", \"city_Riobamba\",\n",
    "    \"city_Salinas\", \"city_Santo Domingo\",\n",
    "\n",
    "    # All one-hot encoded 'state' features\n",
    "    \"state_Bolivar\", \"state_Chimborazo\", \"state_Cotopaxi\", \"state_El Oro\", \"state_Esmeraldas\",\n",
    "    \"state_Guayas\", \"state_Imbabura\", \"state_Loja\", \"state_Los Rios\", \"state_Manabi\",\n",
    "    \"state_Pichincha\", \"state_Santa Elena\", \"state_Santo Domingo de los Tsachilas\", \"state_Tungurahua\"\n",
    "]\n",
    "\n",
    "target = \"unit_sales\"\n",
    "# Selecting the data\n",
    "X_train = train_df[features]\n",
    "y_train = train_df[target]\n",
    "\n",
    "X_val = val_df[features]\n",
    "y_val = val_df[target]\n",
    "\n",
    "X_test = test_df[features]\n",
    "\n",
    "\n",
    "\n",
    "rf_model = RandomForestRegressor(n_estimators=200, max_depth=10, random_state=42)\n",
    "rf_model.fit(X_train, y_train)\n",
    "\n",
    "y_pred_rf = rf_model.predict(X_val)\n",
    "\n",
    "# Evaluate\n",
    "from sklearn.metrics import mean_absolute_error, mean_squared_error\n",
    "\n",
    "mae_rf = mean_absolute_error(y_val, y_pred_rf)\n",
    "rmse_rf = mean_squared_error(y_val, y_pred_rf, squared=False)\n",
    "\n",
    "print(f\"Random Forest MAE: {mae_rf:.4f}\")\n",
    "print(f\"Random Forest RMSE: {rmse_rf:.4f}\")\n"
   ]
  },
  {
   "cell_type": "code",
   "execution_count": 6,
   "id": "079a6535-5bec-4447-b5b2-eb8596a23f8b",
   "metadata": {},
   "outputs": [
    {
     "name": "stdout",
     "output_type": "stream",
     "text": [
      "0:\tlearn: 16.6129981\ttotal: 59.6ms\tremaining: 29.7s\n",
      "100:\tlearn: 9.5432157\ttotal: 1.14s\tremaining: 4.51s\n",
      "200:\tlearn: 8.9234522\ttotal: 2.19s\tremaining: 3.27s\n",
      "300:\tlearn: 8.5510413\ttotal: 3.26s\tremaining: 2.15s\n",
      "400:\tlearn: 8.2677927\ttotal: 4.32s\tremaining: 1.07s\n",
      "499:\tlearn: 8.0465132\ttotal: 5.37s\tremaining: 0us\n",
      "CatBoost MAE: 5.2393\n",
      "CatBoost RMSE: 11.1545\n"
     ]
    },
    {
     "name": "stderr",
     "output_type": "stream",
     "text": [
      "/opt/conda/lib/python3.11/site-packages/sklearn/metrics/_regression.py:492: FutureWarning: 'squared' is deprecated in version 1.4 and will be removed in 1.6. To calculate the root mean squared error, use the function'root_mean_squared_error'.\n",
      "  warnings.warn(\n"
     ]
    }
   ],
   "source": [
    "#Cat Boost\n",
    "\n",
    "from catboost import CatBoostRegressor\n",
    "\n",
    "cat_model = CatBoostRegressor(iterations=500, learning_rate=0.1, depth=7, random_state=42, verbose=100)\n",
    "cat_model.fit(X_train, y_train)\n",
    "\n",
    "y_pred_cat = cat_model.predict(X_val)\n",
    "\n",
    "mae_cat = mean_absolute_error(y_val, y_pred_cat)\n",
    "rmse_cat = mean_squared_error(y_val, y_pred_cat, squared=False)\n",
    "\n",
    "print(f\"CatBoost MAE: {mae_cat:.4f}\")\n",
    "print(f\"CatBoost RMSE: {rmse_cat:.4f}\")\n"
   ]
  },
  {
   "cell_type": "code",
   "execution_count": 7,
   "id": "ad8f864b-c47a-497e-9f39-5e4f81b1e15e",
   "metadata": {},
   "outputs": [
    {
     "name": "stderr",
     "output_type": "stream",
     "text": [
      "2025-03-31 18:38:02.925200: I tensorflow/core/platform/cpu_feature_guard.cc:210] This TensorFlow binary is optimized to use available CPU instructions in performance-critical operations.\n",
      "To enable the following instructions: SSE4.1 SSE4.2 AVX AVX2 AVX512F FMA, in other operations, rebuild TensorFlow with the appropriate compiler flags.\n"
     ]
    },
    {
     "name": "stdout",
     "output_type": "stream",
     "text": [
      "Epoch 1/50\n"
     ]
    },
    {
     "name": "stderr",
     "output_type": "stream",
     "text": [
      "/opt/conda/lib/python3.11/site-packages/keras/src/layers/core/dense.py:87: UserWarning: Do not pass an `input_shape`/`input_dim` argument to a layer. When using Sequential models, prefer using an `Input(shape)` object as the first layer in the model instead.\n",
      "  super().__init__(activity_regularizer=activity_regularizer, **kwargs)\n"
     ]
    },
    {
     "name": "stdout",
     "output_type": "stream",
     "text": [
      "\u001b[1m4375/4375\u001b[0m \u001b[32m━━━━━━━━━━━━━━━━━━━━\u001b[0m\u001b[37m\u001b[0m \u001b[1m8s\u001b[0m 2ms/step - loss: 120125680.0000 - mae: 1686.4803 - val_loss: 888.4341 - val_mae: 23.2576\n",
      "Epoch 2/50\n",
      "\u001b[1m4375/4375\u001b[0m \u001b[32m━━━━━━━━━━━━━━━━━━━━\u001b[0m\u001b[37m\u001b[0m \u001b[1m7s\u001b[0m 2ms/step - loss: 185582.5312 - mae: 102.4474 - val_loss: 2603.6816 - val_mae: 42.6879\n",
      "Epoch 3/50\n",
      "\u001b[1m4375/4375\u001b[0m \u001b[32m━━━━━━━━━━━━━━━━━━━━\u001b[0m\u001b[37m\u001b[0m \u001b[1m7s\u001b[0m 2ms/step - loss: 79118.0938 - mae: 72.2735 - val_loss: 770.1690 - val_mae: 17.5233\n",
      "Epoch 4/50\n",
      "\u001b[1m4375/4375\u001b[0m \u001b[32m━━━━━━━━━━━━━━━━━━━━\u001b[0m\u001b[37m\u001b[0m \u001b[1m7s\u001b[0m 2ms/step - loss: 71166.4766 - mae: 111.0583 - val_loss: 3234.3845 - val_mae: 44.9426\n",
      "Epoch 5/50\n",
      "\u001b[1m4375/4375\u001b[0m \u001b[32m━━━━━━━━━━━━━━━━━━━━\u001b[0m\u001b[37m\u001b[0m \u001b[1m7s\u001b[0m 2ms/step - loss: 29540.8867 - mae: 62.1198 - val_loss: 1132.7050 - val_mae: 24.3507\n",
      "Epoch 6/50\n",
      "\u001b[1m4375/4375\u001b[0m \u001b[32m━━━━━━━━━━━━━━━━━━━━\u001b[0m\u001b[37m\u001b[0m \u001b[1m7s\u001b[0m 2ms/step - loss: 110835.0703 - mae: 95.9657 - val_loss: 1871.1566 - val_mae: 37.2867\n",
      "Epoch 7/50\n",
      "\u001b[1m4375/4375\u001b[0m \u001b[32m━━━━━━━━━━━━━━━━━━━━\u001b[0m\u001b[37m\u001b[0m \u001b[1m7s\u001b[0m 2ms/step - loss: 29066.3496 - mae: 50.6133 - val_loss: 7864.1938 - val_mae: 78.3256\n",
      "Epoch 8/50\n",
      "\u001b[1m4375/4375\u001b[0m \u001b[32m━━━━━━━━━━━━━━━━━━━━\u001b[0m\u001b[37m\u001b[0m \u001b[1m7s\u001b[0m 2ms/step - loss: 6555.4009 - mae: 34.9474 - val_loss: 731.6180 - val_mae: 16.7472\n",
      "Epoch 9/50\n",
      "\u001b[1m4375/4375\u001b[0m \u001b[32m━━━━━━━━━━━━━━━━━━━━\u001b[0m\u001b[37m\u001b[0m \u001b[1m7s\u001b[0m 2ms/step - loss: 3557.3713 - mae: 33.7126 - val_loss: 536.9344 - val_mae: 11.6600\n",
      "Epoch 10/50\n",
      "\u001b[1m4375/4375\u001b[0m \u001b[32m━━━━━━━━━━━━━━━━━━━━\u001b[0m\u001b[37m\u001b[0m \u001b[1m7s\u001b[0m 2ms/step - loss: 5342.0801 - mae: 32.1243 - val_loss: 818.8282 - val_mae: 18.7116\n",
      "Epoch 11/50\n",
      "\u001b[1m4375/4375\u001b[0m \u001b[32m━━━━━━━━━━━━━━━━━━━━\u001b[0m\u001b[37m\u001b[0m \u001b[1m7s\u001b[0m 2ms/step - loss: 1908.2075 - mae: 26.0470 - val_loss: 697.1295 - val_mae: 16.0735\n",
      "Epoch 12/50\n",
      "\u001b[1m4375/4375\u001b[0m \u001b[32m━━━━━━━━━━━━━━━━━━━━\u001b[0m\u001b[37m\u001b[0m \u001b[1m7s\u001b[0m 2ms/step - loss: 1058.1930 - mae: 21.3938 - val_loss: 753.4973 - val_mae: 17.3200\n",
      "Epoch 13/50\n",
      "\u001b[1m4375/4375\u001b[0m \u001b[32m━━━━━━━━━━━━━━━━━━━━\u001b[0m\u001b[37m\u001b[0m \u001b[1m7s\u001b[0m 2ms/step - loss: 655.5916 - mae: 16.4974 - val_loss: 931.4681 - val_mae: 20.9204\n",
      "Epoch 14/50\n",
      "\u001b[1m4375/4375\u001b[0m \u001b[32m━━━━━━━━━━━━━━━━━━━━\u001b[0m\u001b[37m\u001b[0m \u001b[1m7s\u001b[0m 2ms/step - loss: 425.2140 - mae: 12.5173 - val_loss: 464.8871 - val_mae: 9.2360\n",
      "Epoch 15/50\n",
      "\u001b[1m4375/4375\u001b[0m \u001b[32m━━━━━━━━━━━━━━━━━━━━\u001b[0m\u001b[37m\u001b[0m \u001b[1m7s\u001b[0m 2ms/step - loss: 322.7045 - mae: 9.1493 - val_loss: 511.1312 - val_mae: 9.2723\n",
      "Epoch 16/50\n",
      "\u001b[1m4375/4375\u001b[0m \u001b[32m━━━━━━━━━━━━━━━━━━━━\u001b[0m\u001b[37m\u001b[0m \u001b[1m7s\u001b[0m 2ms/step - loss: 294.6786 - mae: 8.3758 - val_loss: 432.4494 - val_mae: 8.3145\n",
      "Epoch 17/50\n",
      "\u001b[1m4375/4375\u001b[0m \u001b[32m━━━━━━━━━━━━━━━━━━━━\u001b[0m\u001b[37m\u001b[0m \u001b[1m7s\u001b[0m 2ms/step - loss: 303.4734 - mae: 8.4035 - val_loss: 421.1741 - val_mae: 9.8539\n",
      "Epoch 18/50\n",
      "\u001b[1m4375/4375\u001b[0m \u001b[32m━━━━━━━━━━━━━━━━━━━━\u001b[0m\u001b[37m\u001b[0m \u001b[1m7s\u001b[0m 2ms/step - loss: 298.0279 - mae: 8.4567 - val_loss: 442.5834 - val_mae: 8.1852\n",
      "Epoch 19/50\n",
      "\u001b[1m4375/4375\u001b[0m \u001b[32m━━━━━━━━━━━━━━━━━━━━\u001b[0m\u001b[37m\u001b[0m \u001b[1m7s\u001b[0m 2ms/step - loss: 293.1647 - mae: 8.2717 - val_loss: 420.1533 - val_mae: 9.6317\n",
      "Epoch 20/50\n",
      "\u001b[1m4375/4375\u001b[0m \u001b[32m━━━━━━━━━━━━━━━━━━━━\u001b[0m\u001b[37m\u001b[0m \u001b[1m7s\u001b[0m 2ms/step - loss: 306.8809 - mae: 8.3679 - val_loss: 471.0007 - val_mae: 8.3830\n",
      "Epoch 21/50\n",
      "\u001b[1m4375/4375\u001b[0m \u001b[32m━━━━━━━━━━━━━━━━━━━━\u001b[0m\u001b[37m\u001b[0m \u001b[1m7s\u001b[0m 2ms/step - loss: 305.8153 - mae: 8.1406 - val_loss: 432.9786 - val_mae: 8.8975\n",
      "Epoch 22/50\n",
      "\u001b[1m4375/4375\u001b[0m \u001b[32m━━━━━━━━━━━━━━━━━━━━\u001b[0m\u001b[37m\u001b[0m \u001b[1m7s\u001b[0m 2ms/step - loss: 289.0145 - mae: 8.5303 - val_loss: 430.5759 - val_mae: 9.6093\n",
      "Epoch 23/50\n",
      "\u001b[1m4375/4375\u001b[0m \u001b[32m━━━━━━━━━━━━━━━━━━━━\u001b[0m\u001b[37m\u001b[0m \u001b[1m7s\u001b[0m 2ms/step - loss: 309.1180 - mae: 8.5942 - val_loss: 450.0099 - val_mae: 8.8360\n",
      "Epoch 24/50\n",
      "\u001b[1m4375/4375\u001b[0m \u001b[32m━━━━━━━━━━━━━━━━━━━━\u001b[0m\u001b[37m\u001b[0m \u001b[1m7s\u001b[0m 2ms/step - loss: 307.9098 - mae: 8.6352 - val_loss: 429.0040 - val_mae: 9.2677\n",
      "Epoch 25/50\n",
      "\u001b[1m4375/4375\u001b[0m \u001b[32m━━━━━━━━━━━━━━━━━━━━\u001b[0m\u001b[37m\u001b[0m \u001b[1m7s\u001b[0m 2ms/step - loss: 294.2308 - mae: 8.5727 - val_loss: 434.0413 - val_mae: 8.8807\n",
      "Epoch 26/50\n",
      "\u001b[1m4375/4375\u001b[0m \u001b[32m━━━━━━━━━━━━━━━━━━━━\u001b[0m\u001b[37m\u001b[0m \u001b[1m7s\u001b[0m 2ms/step - loss: 293.8806 - mae: 8.6362 - val_loss: 426.2253 - val_mae: 9.1128\n",
      "Epoch 27/50\n",
      "\u001b[1m4375/4375\u001b[0m \u001b[32m━━━━━━━━━━━━━━━━━━━━\u001b[0m\u001b[37m\u001b[0m \u001b[1m7s\u001b[0m 2ms/step - loss: 291.3495 - mae: 8.5827 - val_loss: 422.2008 - val_mae: 9.5180\n",
      "Epoch 28/50\n",
      "\u001b[1m4375/4375\u001b[0m \u001b[32m━━━━━━━━━━━━━━━━━━━━\u001b[0m\u001b[37m\u001b[0m \u001b[1m7s\u001b[0m 2ms/step - loss: 312.4621 - mae: 8.6923 - val_loss: 427.0200 - val_mae: 8.8955\n",
      "Epoch 29/50\n",
      "\u001b[1m4375/4375\u001b[0m \u001b[32m━━━━━━━━━━━━━━━━━━━━\u001b[0m\u001b[37m\u001b[0m \u001b[1m7s\u001b[0m 2ms/step - loss: 296.5013 - mae: 8.5772 - val_loss: 422.4798 - val_mae: 9.6018\n",
      "Epoch 30/50\n",
      "\u001b[1m4375/4375\u001b[0m \u001b[32m━━━━━━━━━━━━━━━━━━━━\u001b[0m\u001b[37m\u001b[0m \u001b[1m7s\u001b[0m 2ms/step - loss: 270.6671 - mae: 8.4823 - val_loss: 423.9935 - val_mae: 9.0088\n",
      "Epoch 31/50\n",
      "\u001b[1m4375/4375\u001b[0m \u001b[32m━━━━━━━━━━━━━━━━━━━━\u001b[0m\u001b[37m\u001b[0m \u001b[1m7s\u001b[0m 2ms/step - loss: 298.5886 - mae: 8.6053 - val_loss: 425.2607 - val_mae: 8.8670\n",
      "Epoch 32/50\n",
      "\u001b[1m4375/4375\u001b[0m \u001b[32m━━━━━━━━━━━━━━━━━━━━\u001b[0m\u001b[37m\u001b[0m \u001b[1m7s\u001b[0m 2ms/step - loss: 300.0193 - mae: 8.5750 - val_loss: 422.7798 - val_mae: 9.0351\n",
      "Epoch 33/50\n",
      "\u001b[1m4375/4375\u001b[0m \u001b[32m━━━━━━━━━━━━━━━━━━━━\u001b[0m\u001b[37m\u001b[0m \u001b[1m7s\u001b[0m 2ms/step - loss: 308.0060 - mae: 8.5722 - val_loss: 437.4758 - val_mae: 8.4575\n",
      "Epoch 34/50\n",
      "\u001b[1m4375/4375\u001b[0m \u001b[32m━━━━━━━━━━━━━━━━━━━━\u001b[0m\u001b[37m\u001b[0m \u001b[1m7s\u001b[0m 2ms/step - loss: 300.3812 - mae: 8.5104 - val_loss: 420.5709 - val_mae: 9.3825\n",
      "Epoch 35/50\n",
      "\u001b[1m4375/4375\u001b[0m \u001b[32m━━━━━━━━━━━━━━━━━━━━\u001b[0m\u001b[37m\u001b[0m \u001b[1m7s\u001b[0m 2ms/step - loss: 300.5489 - mae: 8.6031 - val_loss: 422.2500 - val_mae: 9.0453\n",
      "Epoch 36/50\n",
      "\u001b[1m4375/4375\u001b[0m \u001b[32m━━━━━━━━━━━━━━━━━━━━\u001b[0m\u001b[37m\u001b[0m \u001b[1m7s\u001b[0m 2ms/step - loss: 299.7130 - mae: 8.5158 - val_loss: 421.7737 - val_mae: 9.0431\n",
      "Epoch 37/50\n",
      "\u001b[1m4375/4375\u001b[0m \u001b[32m━━━━━━━━━━━━━━━━━━━━\u001b[0m\u001b[37m\u001b[0m \u001b[1m7s\u001b[0m 2ms/step - loss: 293.9164 - mae: 8.4490 - val_loss: 420.4573 - val_mae: 9.6203\n",
      "Epoch 38/50\n",
      "\u001b[1m4375/4375\u001b[0m \u001b[32m━━━━━━━━━━━━━━━━━━━━\u001b[0m\u001b[37m\u001b[0m \u001b[1m7s\u001b[0m 2ms/step - loss: 279.8285 - mae: 8.3636 - val_loss: 432.3401 - val_mae: 8.4766\n",
      "Epoch 39/50\n",
      "\u001b[1m4375/4375\u001b[0m \u001b[32m━━━━━━━━━━━━━━━━━━━━\u001b[0m\u001b[37m\u001b[0m \u001b[1m10s\u001b[0m 2ms/step - loss: 298.2124 - mae: 8.4615 - val_loss: 423.9311 - val_mae: 8.7976\n",
      "Epoch 40/50\n",
      "\u001b[1m4375/4375\u001b[0m \u001b[32m━━━━━━━━━━━━━━━━━━━━\u001b[0m\u001b[37m\u001b[0m \u001b[1m7s\u001b[0m 1ms/step - loss: 296.8917 - mae: 8.4302 - val_loss: 421.8329 - val_mae: 9.0107\n",
      "Epoch 41/50\n",
      "\u001b[1m4375/4375\u001b[0m \u001b[32m━━━━━━━━━━━━━━━━━━━━\u001b[0m\u001b[37m\u001b[0m \u001b[1m7s\u001b[0m 2ms/step - loss: 286.0488 - mae: 8.4957 - val_loss: 421.1945 - val_mae: 9.0570\n",
      "Epoch 42/50\n",
      "\u001b[1m4375/4375\u001b[0m \u001b[32m━━━━━━━━━━━━━━━━━━━━\u001b[0m\u001b[37m\u001b[0m \u001b[1m7s\u001b[0m 2ms/step - loss: 287.0724 - mae: 8.4213 - val_loss: 424.1941 - val_mae: 10.4236\n",
      "Epoch 43/50\n",
      "\u001b[1m4375/4375\u001b[0m \u001b[32m━━━━━━━━━━━━━━━━━━━━\u001b[0m\u001b[37m\u001b[0m \u001b[1m7s\u001b[0m 1ms/step - loss: 302.2243 - mae: 8.5167 - val_loss: 423.3988 - val_mae: 8.9222\n",
      "Epoch 44/50\n",
      "\u001b[1m4375/4375\u001b[0m \u001b[32m━━━━━━━━━━━━━━━━━━━━\u001b[0m\u001b[37m\u001b[0m \u001b[1m7s\u001b[0m 2ms/step - loss: 304.0831 - mae: 8.5534 - val_loss: 422.3858 - val_mae: 8.9020\n",
      "Epoch 45/50\n",
      "\u001b[1m4375/4375\u001b[0m \u001b[32m━━━━━━━━━━━━━━━━━━━━\u001b[0m\u001b[37m\u001b[0m \u001b[1m7s\u001b[0m 2ms/step - loss: 316.7849 - mae: 8.5530 - val_loss: 422.5156 - val_mae: 8.9391\n",
      "Epoch 46/50\n",
      "\u001b[1m4375/4375\u001b[0m \u001b[32m━━━━━━━━━━━━━━━━━━━━\u001b[0m\u001b[37m\u001b[0m \u001b[1m7s\u001b[0m 2ms/step - loss: 278.0199 - mae: 8.3465 - val_loss: 422.2239 - val_mae: 9.0174\n",
      "Epoch 47/50\n",
      "\u001b[1m4375/4375\u001b[0m \u001b[32m━━━━━━━━━━━━━━━━━━━━\u001b[0m\u001b[37m\u001b[0m \u001b[1m7s\u001b[0m 2ms/step - loss: 302.8309 - mae: 8.4972 - val_loss: 420.3315 - val_mae: 9.1703\n",
      "Epoch 48/50\n",
      "\u001b[1m4375/4375\u001b[0m \u001b[32m━━━━━━━━━━━━━━━━━━━━\u001b[0m\u001b[37m\u001b[0m \u001b[1m7s\u001b[0m 2ms/step - loss: 295.0441 - mae: 8.4540 - val_loss: 421.3860 - val_mae: 8.9926\n",
      "Epoch 49/50\n",
      "\u001b[1m4375/4375\u001b[0m \u001b[32m━━━━━━━━━━━━━━━━━━━━\u001b[0m\u001b[37m\u001b[0m \u001b[1m7s\u001b[0m 2ms/step - loss: 291.4877 - mae: 8.5057 - val_loss: 425.4859 - val_mae: 8.7259\n",
      "Epoch 50/50\n",
      "\u001b[1m4375/4375\u001b[0m \u001b[32m━━━━━━━━━━━━━━━━━━━━\u001b[0m\u001b[37m\u001b[0m \u001b[1m7s\u001b[0m 2ms/step - loss: 289.5040 - mae: 8.4352 - val_loss: 424.7441 - val_mae: 8.7448\n",
      "\u001b[1m938/938\u001b[0m \u001b[32m━━━━━━━━━━━━━━━━━━━━\u001b[0m\u001b[37m\u001b[0m \u001b[1m1s\u001b[0m 751us/step\n",
      "Neural Network MAE: 8.7448\n",
      "Neural Network RMSE: 20.6093\n"
     ]
    },
    {
     "name": "stderr",
     "output_type": "stream",
     "text": [
      "/opt/conda/lib/python3.11/site-packages/sklearn/metrics/_regression.py:492: FutureWarning: 'squared' is deprecated in version 1.4 and will be removed in 1.6. To calculate the root mean squared error, use the function'root_mean_squared_error'.\n",
      "  warnings.warn(\n"
     ]
    }
   ],
   "source": [
    "#Neural Networks\n",
    "\n",
    "import tensorflow as tf\n",
    "from tensorflow import keras\n",
    "\n",
    "model = keras.Sequential([\n",
    "    keras.layers.Dense(128, activation=\"relu\", input_shape=(X_train.shape[1],)),\n",
    "    keras.layers.Dense(64, activation=\"relu\"),\n",
    "    keras.layers.Dense(1)\n",
    "])\n",
    "\n",
    "model.compile(optimizer=\"adam\", loss=\"mse\", metrics=[\"mae\"])\n",
    "model.fit(X_train, y_train, epochs=50, batch_size=32, validation_data=(X_val, y_val))\n",
    "\n",
    "y_pred_nn = model.predict(X_val).flatten()\n",
    "\n",
    "mae_nn = mean_absolute_error(y_val, y_pred_nn)\n",
    "rmse_nn = mean_squared_error(y_val, y_pred_nn, squared=False)\n",
    "\n",
    "print(f\"Neural Network MAE: {mae_nn:.4f}\")\n",
    "print(f\"Neural Network RMSE: {rmse_nn:.4f}\")\n"
   ]
  },
  {
   "cell_type": "code",
   "execution_count": null,
   "id": "97336422-219e-417f-ba2e-11fbfdb2a720",
   "metadata": {},
   "outputs": [],
   "source": []
  }
 ],
 "metadata": {
  "kernelspec": {
   "display_name": "Python 3 (ipykernel)",
   "language": "python",
   "name": "python3"
  },
  "language_info": {
   "codemirror_mode": {
    "name": "ipython",
    "version": 3
   },
   "file_extension": ".py",
   "mimetype": "text/x-python",
   "name": "python",
   "nbconvert_exporter": "python",
   "pygments_lexer": "ipython3",
   "version": "3.11.11"
  }
 },
 "nbformat": 4,
 "nbformat_minor": 5
}
