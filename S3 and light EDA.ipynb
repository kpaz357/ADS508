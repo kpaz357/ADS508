{
 "cells": [
  {
   "cell_type": "code",
   "execution_count": 2,
   "id": "0a043897-786c-42c4-bcb6-7dbdbd2bbd12",
   "metadata": {},
   "outputs": [],
   "source": [
    "import boto3\n",
    "import os\n",
    "import pandas as pd\n",
    "\n",
    "bucket_name = \"nexttrendco\"\n",
    "s3 = boto3.client(\"s3\", region_name=\"us-east-1\")  \n",
    "local_folder_path = \"/home/sagemaker-user/raw-data/\""
   ]
  },
  {
   "cell_type": "code",
   "execution_count": 3,
   "id": "3a0a7186-0abf-4abd-a894-f14880941b99",
   "metadata": {},
   "outputs": [
    {
     "name": "stdout",
     "output_type": "stream",
     "text": [
      "Directory exists: /home/sagemaker-user/raw-data/\n"
     ]
    }
   ],
   "source": [
    "# Ensure local directory exists\n",
    "if os.path.exists(local_folder_path):\n",
    "    print(\"Directory exists:\", local_folder_path)\n",
    "else:\n",
    "    print(\"Directory was not created.\")"
   ]
  },
  {
   "cell_type": "code",
   "execution_count": 4,
   "id": "2dac8505-4a19-4176-97c5-7eeedb7e75ee",
   "metadata": {},
   "outputs": [],
   "source": [
    "# Initialize S3 client with correct region\n",
    "s3 = boto3.client(\"s3\", region_name=\"us-east-1\")"
   ]
  },
  {
   "cell_type": "code",
   "execution_count": 5,
   "id": "90932c2a-ef4c-4ce4-a76f-d0dfebbbe9cc",
   "metadata": {},
   "outputs": [
    {
     "name": "stdout",
     "output_type": "stream",
     "text": [
      "\n",
      " Files found in S3 bucket:\n",
      "favorita/holidays_events.csv\n",
      "favorita/items.csv\n",
      "favorita/oil.csv\n",
      "favorita/stores.csv\n",
      "favorita/test.csv\n",
      "favorita/train.csv\n",
      "favorita/transactions.csv\n",
      "rossman/store.csv\n",
      "rossman/test.csv\n",
      "rossman/train.csv\n",
      "walmart/features.csv\n",
      "walmart/stores.csv\n",
      "walmart/test.csv\n",
      "walmart/train.csv\n"
     ]
    }
   ],
   "source": [
    "# List all files in the S3 bucket\n",
    "response = s3.list_objects_v2(Bucket=bucket_name)\n",
    "\n",
    "if \"Contents\" in response:\n",
    "    print(\"\\n Files found in S3 bucket:\")\n",
    "    for obj in response[\"Contents\"]:\n",
    "        print(obj[\"Key\"])  # Print full file paths\n",
    "else:\n",
    "    print(\"\\n No files found in S3. Please check your upload.\")\n"
   ]
  },
  {
   "cell_type": "code",
   "execution_count": 6,
   "id": "3df722cf-1b86-4040-b005-0257396c8956",
   "metadata": {},
   "outputs": [
    {
     "name": "stdout",
     "output_type": "stream",
     "text": [
      "Downloaded holidays_events.csv from S3 to /home/sagemaker-user/raw-data/holidays_events.csv\n",
      "Downloaded items.csv from S3 to /home/sagemaker-user/raw-data/items.csv\n",
      "Downloaded oil.csv from S3 to /home/sagemaker-user/raw-data/oil.csv\n",
      "Downloaded stores.csv from S3 to /home/sagemaker-user/raw-data/stores.csv\n",
      "Downloaded test.csv from S3 to /home/sagemaker-user/raw-data/test.csv\n",
      "Downloaded train.csv from S3 to /home/sagemaker-user/raw-data/train.csv\n",
      "Downloaded transactions.csv from S3 to /home/sagemaker-user/raw-data/transactions.csv\n",
      "Downloaded store.csv from S3 to /home/sagemaker-user/raw-data/store.csv\n",
      "Downloaded test.csv from S3 to /home/sagemaker-user/raw-data/test.csv\n",
      "Downloaded train.csv from S3 to /home/sagemaker-user/raw-data/train.csv\n",
      "Downloaded features.csv from S3 to /home/sagemaker-user/raw-data/features.csv\n",
      "Downloaded stores.csv from S3 to /home/sagemaker-user/raw-data/stores.csv\n",
      "Downloaded test.csv from S3 to /home/sagemaker-user/raw-data/test.csv\n",
      "Downloaded train.csv from S3 to /home/sagemaker-user/raw-data/train.csv\n"
     ]
    }
   ],
   "source": [
    "if \"Contents\" in response:\n",
    "    for obj in response[\"Contents\"]:\n",
    "        s3_key = obj[\"Key\"]  # Full path in S3\n",
    "        file_name = s3_key.split(\"/\")[-1]  # Extract file name\n",
    "        local_file_path = os.path.join(local_folder_path, file_name)\n",
    "\n",
    "        # Download only if it's a file (not an empty folder)\n",
    "        if not s3_key.endswith(\"/\"):\n",
    "            s3.download_file(bucket_name, s3_key, local_file_path)\n",
    "            print(f\"Downloaded {file_name} from S3 to {local_file_path}\")\n",
    "else:\n",
    "    print(\"No files found in S3.\")"
   ]
  },
  {
   "cell_type": "code",
   "execution_count": 7,
   "id": "8aac90eb-8a14-412f-8e80-8aa00824505f",
   "metadata": {},
   "outputs": [
    {
     "name": "stdout",
     "output_type": "stream",
     "text": [
      "\n",
      "Files available in SageMaker:\n",
      "['holidays_events.csv', 'items.csv', 'oil.csv', 'stores.csv', 'transactions.csv', 'store.csv', 'features.csv', 'test.csv', 'train.csv']\n"
     ]
    }
   ],
   "source": [
    "# Verify downloaded \n",
    "downloaded_files = os.listdir(local_folder_path)\n",
    "if downloaded_files:\n",
    "    print(\"\\nFiles available in SageMaker:\")\n",
    "    print(downloaded_files)\n",
    "else:\n",
    "    print(\"\\nNo files found in SageMaker. Check the download process.\")\n"
   ]
  },
  {
   "cell_type": "code",
   "execution_count": 8,
   "id": "05205b58-984f-42bd-a161-df8a8767f161",
   "metadata": {},
   "outputs": [
    {
     "name": "stdout",
     "output_type": "stream",
     "text": [
      "\n",
      "File: holidays_events.csv\n",
      "         date     type    locale locale_name                    description  \\\n",
      "0  2012-03-02  Holiday     Local       Manta             Fundacion de Manta   \n",
      "1  2012-04-01  Holiday  Regional    Cotopaxi  Provincializacion de Cotopaxi   \n",
      "2  2012-04-12  Holiday     Local      Cuenca            Fundacion de Cuenca   \n",
      "3  2012-04-14  Holiday     Local    Libertad      Cantonizacion de Libertad   \n",
      "4  2012-04-21  Holiday     Local    Riobamba      Cantonizacion de Riobamba   \n",
      "\n",
      "   transferred  \n",
      "0        False  \n",
      "1        False  \n",
      "2        False  \n",
      "3        False  \n",
      "4        False  \n",
      "\n",
      "File: items.csv\n",
      "   item_nbr        family  class  perishable\n",
      "0     96995     GROCERY I   1093           0\n",
      "1     99197     GROCERY I   1067           0\n",
      "2    103501      CLEANING   3008           0\n",
      "3    103520     GROCERY I   1028           0\n",
      "4    103665  BREAD/BAKERY   2712           1\n",
      "\n",
      "File: oil.csv\n",
      "         date  dcoilwtico\n",
      "0  2013-01-01         NaN\n",
      "1  2013-01-02       93.14\n",
      "2  2013-01-03       92.97\n",
      "3  2013-01-04       93.12\n",
      "4  2013-01-07       93.20\n",
      "\n",
      "File: stores.csv\n",
      "   Store Type    Size\n",
      "0      1    A  151315\n",
      "1      2    A  202307\n",
      "2      3    B   37392\n",
      "3      4    A  205863\n",
      "4      5    B   34875\n",
      "\n",
      "File: transactions.csv\n",
      "         date  store_nbr  transactions\n",
      "0  2013-01-01         25           770\n",
      "1  2013-01-02          1          2111\n",
      "2  2013-01-02          2          2358\n",
      "3  2013-01-02          3          3487\n",
      "4  2013-01-02          4          1922\n",
      "\n",
      "File: store.csv\n",
      "   Store StoreType Assortment  CompetitionDistance  CompetitionOpenSinceMonth  \\\n",
      "0      1         c          a               1270.0                        9.0   \n",
      "1      2         a          a                570.0                       11.0   \n",
      "2      3         a          a              14130.0                       12.0   \n",
      "3      4         c          c                620.0                        9.0   \n",
      "4      5         a          a              29910.0                        4.0   \n",
      "\n",
      "   CompetitionOpenSinceYear  Promo2  Promo2SinceWeek  Promo2SinceYear  \\\n",
      "0                    2008.0       0              NaN              NaN   \n",
      "1                    2007.0       1             13.0           2010.0   \n",
      "2                    2006.0       1             14.0           2011.0   \n",
      "3                    2009.0       0              NaN              NaN   \n",
      "4                    2015.0       0              NaN              NaN   \n",
      "\n",
      "     PromoInterval  \n",
      "0              NaN  \n",
      "1  Jan,Apr,Jul,Oct  \n",
      "2  Jan,Apr,Jul,Oct  \n",
      "3              NaN  \n",
      "4              NaN  \n",
      "\n",
      "File: features.csv\n",
      "   Store        Date  Temperature  Fuel_Price  MarkDown1  MarkDown2  \\\n",
      "0      1  2010-02-05        42.31       2.572        NaN        NaN   \n",
      "1      1  2010-02-12        38.51       2.548        NaN        NaN   \n",
      "2      1  2010-02-19        39.93       2.514        NaN        NaN   \n",
      "3      1  2010-02-26        46.63       2.561        NaN        NaN   \n",
      "4      1  2010-03-05        46.50       2.625        NaN        NaN   \n",
      "\n",
      "   MarkDown3  MarkDown4  MarkDown5         CPI  Unemployment  IsHoliday  \n",
      "0        NaN        NaN        NaN  211.096358         8.106      False  \n",
      "1        NaN        NaN        NaN  211.242170         8.106       True  \n",
      "2        NaN        NaN        NaN  211.289143         8.106      False  \n",
      "3        NaN        NaN        NaN  211.319643         8.106      False  \n",
      "4        NaN        NaN        NaN  211.350143         8.106      False  \n",
      "\n",
      "File: test.csv\n",
      "   Store  Dept        Date  IsHoliday\n",
      "0      1     1  2012-11-02      False\n",
      "1      1     1  2012-11-09      False\n",
      "2      1     1  2012-11-16      False\n",
      "3      1     1  2012-11-23       True\n",
      "4      1     1  2012-11-30      False\n",
      "\n",
      "File: train.csv\n",
      "   Store  Dept        Date  Weekly_Sales  IsHoliday\n",
      "0      1     1  2010-02-05      24924.50      False\n",
      "1      1     1  2010-02-12      46039.49       True\n",
      "2      1     1  2010-02-19      41595.55      False\n",
      "3      1     1  2010-02-26      19403.54      False\n",
      "4      1     1  2010-03-05      21827.90      False\n"
     ]
    }
   ],
   "source": [
    "# Print headers\n",
    "for file_name in downloaded_files:\n",
    "    if file_name.endswith(\".csv\"):\n",
    "        file_path = os.path.join(local_folder_path, file_name)\n",
    "        df = pd.read_csv(file_path)\n",
    "\n",
    "        print(f\"\\nFile: {file_name}\")\n",
    "        print(df.head())\n"
   ]
  },
  {
   "cell_type": "code",
   "execution_count": 9,
   "id": "e7446cc6-81b3-4800-acda-400685bf21b9",
   "metadata": {},
   "outputs": [
    {
     "name": "stdout",
     "output_type": "stream",
     "text": [
      "Columns: Index(['Store', 'Type', 'Size'], dtype='object')\n",
      "<class 'pandas.core.frame.DataFrame'>\n",
      "RangeIndex: 45 entries, 0 to 44\n",
      "Data columns (total 3 columns):\n",
      " #   Column  Non-Null Count  Dtype \n",
      "---  ------  --------------  ----- \n",
      " 0   Store   45 non-null     int64 \n",
      " 1   Type    45 non-null     object\n",
      " 2   Size    45 non-null     int64 \n",
      "dtypes: int64(2), object(1)\n",
      "memory usage: 1.2+ KB\n",
      "None\n",
      "           Store           Size\n",
      "count  45.000000      45.000000\n",
      "mean   23.000000  130287.600000\n",
      "std    13.133926   63825.271991\n",
      "min     1.000000   34875.000000\n",
      "25%    12.000000   70713.000000\n",
      "50%    23.000000  126512.000000\n",
      "75%    34.000000  202307.000000\n",
      "max    45.000000  219622.000000\n",
      "   Store Type    Size\n",
      "0      1    A  151315\n",
      "1      2    A  202307\n",
      "2      3    B   37392\n",
      "3      4    A  205863\n",
      "4      5    B   34875\n"
     ]
    }
   ],
   "source": [
    "import pandas as pd\n",
    "\n",
    "file_path = \"/home/sagemaker-user/raw-data/stores.csv\" \n",
    "df = pd.read_csv(file_path)\n",
    "\n",
    "print(\"Columns:\", df.columns)\n",
    "print(df.info())\n",
    "print(df.describe())\n",
    "print(df.head())"
   ]
  },
  {
   "cell_type": "code",
   "execution_count": 10,
   "id": "643ab9e4-b363-4a4a-a98f-fa01c3a7e610",
   "metadata": {},
   "outputs": [
    {
     "name": "stdout",
     "output_type": "stream",
     "text": [
      "Store    0\n",
      "Type     0\n",
      "Size     0\n",
      "dtype: int64\n"
     ]
    }
   ],
   "source": [
    "print(df.isnull().sum())"
   ]
  },
  {
   "cell_type": "code",
   "execution_count": 11,
   "id": "84746bb3-d1b6-459a-93ab-b9f6a569c556",
   "metadata": {},
   "outputs": [
    {
     "name": "stdout",
     "output_type": "stream",
     "text": [
      "Store  Type  Size  \n",
      "1      A     151315    1\n",
      "2      A     202307    1\n",
      "3      B     37392     1\n",
      "4      A     205863    1\n",
      "5      B     34875     1\n",
      "6      A     202505    1\n",
      "7      B     70713     1\n",
      "8      A     155078    1\n",
      "9      B     125833    1\n",
      "10     B     126512    1\n",
      "11     A     207499    1\n",
      "12     B     112238    1\n",
      "13     A     219622    1\n",
      "14     A     200898    1\n",
      "15     B     123737    1\n",
      "16     B     57197     1\n",
      "17     B     93188     1\n",
      "18     B     120653    1\n",
      "19     A     203819    1\n",
      "20     A     203742    1\n",
      "21     B     140167    1\n",
      "22     B     119557    1\n",
      "23     B     114533    1\n",
      "24     A     203819    1\n",
      "25     B     128107    1\n",
      "26     A     152513    1\n",
      "27     A     204184    1\n",
      "28     A     206302    1\n",
      "29     B     93638     1\n",
      "30     C     42988     1\n",
      "31     A     203750    1\n",
      "32     A     203007    1\n",
      "33     A     39690     1\n",
      "34     A     158114    1\n",
      "35     B     103681    1\n",
      "36     A     39910     1\n",
      "37     C     39910     1\n",
      "38     C     39690     1\n",
      "39     A     184109    1\n",
      "40     A     155083    1\n",
      "41     A     196321    1\n",
      "42     C     39690     1\n",
      "43     C     41062     1\n",
      "44     C     39910     1\n",
      "45     B     118221    1\n",
      "Name: count, dtype: int64\n"
     ]
    }
   ],
   "source": [
    "print(df[['Store', 'Type', 'Size']].value_counts())"
   ]
  },
  {
   "cell_type": "code",
   "execution_count": 12,
   "id": "8a78275f-b656-4819-9271-f204028b219a",
   "metadata": {},
   "outputs": [
    {
     "data": {
      "image/png": "[encoded data removed]",
      "text/plain": [
       "<Figure size 1000x500 with 2 Axes>"
      ]
     },
     "metadata": {},
     "output_type": "display_data"
    }
   ],
   "source": [
    "import matplotlib.pyplot as plt\n",
    "\n",
    "df[['Store', 'Size']].hist(bins=50, figsize=(10, 5))  # Excluding 'Type' if it's categorical\n",
    "plt.show()"
   ]
  }
 ],
 "metadata": {
  "kernelspec": {
   "display_name": "Python 3 (ipykernel)",
   "language": "python",
   "name": "python3"
  },
  "language_info": {
   "codemirror_mode": {
    "name": "ipython",
    "version": 3
   },
   "file_extension": ".py",
   "mimetype": "text/x-python",
   "name": "python",
   "nbconvert_exporter": "python",
   "pygments_lexer": "ipython3",
   "version": "3.11.11"
  }
 },
 "nbformat": 4,
 "nbformat_minor": 5
}
